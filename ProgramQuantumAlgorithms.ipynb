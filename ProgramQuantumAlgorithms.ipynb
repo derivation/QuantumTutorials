{
 "cells": [
  {
   "cell_type": "markdown",
   "metadata": {
    "slideshow": {
     "slide_type": "skip"
    }
   },
   "source": [
    "\n",
    "[![Open In Colab](https://colab.research.google.com/assets/colab-badge.svg)](https://colab.research.google.com/github/jenglick/QuantumTutorials/blob/master/ProgramQuantumAlgorithms.ipynb)\n",
    "\n"
   ]
  },
  {
   "cell_type": "code",
   "execution_count": null,
   "metadata": {
    "slideshow": {
     "slide_type": "skip"
    }
   },
   "outputs": [],
   "source": [
    "!pip install qiskit-aqua==0.4.0\n",
    "!git clone https://github.com/jenglick/QuantumTutorials.git\n",
    "%cd QuantumTutorials\n",
    "%load think.py\n",
    "from think import *"
   ]
  },
  {
   "cell_type": "markdown",
   "metadata": {
    "slideshow": {
     "slide_type": "slide"
    }
   },
   "source": [
    "<img src=\"figs/hello2.png\" width=\"1500 px\" align=\"center\">"
   ]
  },
  {
   "cell_type": "markdown",
   "metadata": {
    "slideshow": {
     "slide_type": "slide"
    }
   },
   "source": [
    "<img src=\"figs/qiskit-panels.png\" width=\"1500 px\" align=\"center\">\n"
   ]
  },
  {
   "cell_type": "markdown",
   "metadata": {
    "slideshow": {
     "slide_type": "slide"
    }
   },
   "source": [
    "<img src=\"figs/aqua.png\" width=\"1500 px\" align=\"center\">"
   ]
  },
  {
   "cell_type": "markdown",
   "metadata": {
    "slideshow": {
     "slide_type": "slide"
    }
   },
   "source": [
    "# Quantum computers can be used to learn and classify data. <br>Today, we will program a quantum computer to classify this data with Aqua.\n",
    "\n",
    "<img src=\"figs/great-demo.png\" width=\"1300 px\" align=\"center\">\n",
    "\n"
   ]
  },
  {
   "cell_type": "markdown",
   "metadata": {
    "slideshow": {
     "slide_type": "slide"
    }
   },
   "source": [
    "# Suppose we want to classify the following data. <br>By drawing a line separating the classes, we can assign labels to <br>new data points based on which side of the line they are found.\n",
    "\n",
    "<img src=\"figs/clusters.png\" width=\"700 px\" align=\"center\">"
   ]
  },
  {
   "cell_type": "markdown",
   "metadata": {
    "slideshow": {
     "slide_type": "slide"
    }
   },
   "source": [
    "# Not any line will do. We want an optimal hyperplane to separate the data. <br>This is the task of a support vector machine.\n",
    "\n",
    "<br>\n",
    "\n",
    "<img src=\"figs/hyperplane.png\" width=\"850 px\" align=\"center\">"
   ]
  },
  {
   "cell_type": "markdown",
   "metadata": {
    "slideshow": {
     "slide_type": "slide"
    }
   },
   "source": [
    "# Often, the data is not linearly separable. <br>It may become linearly separable by increasing dimensionality. <br>This is done using a feature map.\n",
    "\n",
    "<br>\n",
    "\n",
    "<img src=\"figs/featuremap.png\" width=\"650 px\" align=\"center\">"
   ]
  },
  {
   "cell_type": "markdown",
   "metadata": {
    "slideshow": {
     "slide_type": "slide"
    }
   },
   "source": [
    "# Let's create our own dataset using Qiskit Aqua to test these ideas.\n",
    "\n",
    "Note: with Aqua, you can try other datasets such as those from `sklearn.datasets`. "
   ]
  },
  {
   "cell_type": "code",
   "execution_count": 4,
   "metadata": {
    "scrolled": true
   },
   "outputs": [
    {
     "data": {
      "image/png": "[encoded data removed]",
      "text/plain": [
       "<Figure size 1296x576 with 2 Axes>"
      ]
     },
     "metadata": {
      "needs_background": "light"
     },
     "output_type": "display_data"
    }
   ],
   "source": [
    "number_of_features = 2  # number of features\n",
    "training_size = 20      # size of training set\n",
    "test_size = 10          # size of test set\n",
    "gap = 0.3               # separation between the two classes\n",
    "\n",
    "my_data = read(number_of_features, training_size, test_size, gap) # create the training and testing sets"
   ]
  },
  {
   "cell_type": "markdown",
   "metadata": {},
   "source": [
    "\n",
    "<br><br><br><br>\n",
    "\n",
    "<br><br><br><br>\n",
    "\n",
    "<br><br><br><br>\n",
    "\n",
    "<br><br><br><br>\n"
   ]
  },
  {
   "cell_type": "markdown",
   "metadata": {
    "slideshow": {
     "slide_type": "slide"
    }
   },
   "source": [
    "# So, how do we find the margin-maximizing hyperplane for our dataset? \n",
    "\n",
    "This is equivalent to minimizing $||\\vec{w}||^2$ with the constraint that data points lie on the correct side of the margin.\n",
    "\n",
    "<img src=\"figs/primal.png\" width=\"1000 px\" align=\"center\">\n",
    "\n",
    "# This can be rewritten in its dual form by solving these two equations:\n",
    "\n",
    "<img src=\"figs/critical-points.png\" width=\"350 px\" align=\"center\">\n"
   ]
  },
  {
   "cell_type": "markdown",
   "metadata": {
    "slideshow": {
     "slide_type": "slide"
    }
   },
   "source": [
    "<img src=\"figs/dual.png\" width=\"1500 px\" align=\"center\">"
   ]
  },
  {
   "cell_type": "markdown",
   "metadata": {
    "slideshow": {
     "slide_type": "slide"
    }
   },
   "source": [
    "# We can use quantum-enhanced feature spaces to classify data.\n",
    "\n",
    "**arXiv:1804.11326 (2018)**. V. Havlicek,  A. D. Córcoles, K. Temme, A. W. Harrow, J. M. Chow, J. M. Gambetta\n",
    "\n",
    "\n",
    "<br>\n",
    "\n",
    "<img src=\"figs/quantum_featuremap.png\" width=\"1200 px\" align=\"center\">"
   ]
  },
  {
   "cell_type": "markdown",
   "metadata": {
    "slideshow": {
     "slide_type": "slide"
    }
   },
   "source": [
    "<img src=\"figs/quantum-advantage.png\" width=\"1500 px\" align=\"center\">"
   ]
  },
  {
   "cell_type": "markdown",
   "metadata": {
    "slideshow": {
     "slide_type": "slide"
    }
   },
   "source": [
    "# Here is one way we can build a quantum circuit representing <br>the quantum feature map:\n",
    "\n",
    "<!--\n",
    "- Note: The classical data is encoded in the quantum state space via the parameters $\\phi_{\\{𝑖\\}} = x_i$ and $\\phi_{\\{ij\\}} = (\\pi − x_i)(\\pi - x_j)$\n",
    "-->"
   ]
  },
  {
   "cell_type": "code",
   "execution_count": 5,
   "metadata": {
    "scrolled": false
   },
   "outputs": [],
   "source": [
    "def feature_map(register, num_of_qubits, circuit_depth, input_vector):\n",
    "    \"\"\"The feature map based on arXiv:1804.11326.\n",
    "        Args:\n",
    "            register (QuantumRegister): register of qubits\n",
    "            num_of_qubits (int): number of qubits/features\n",
    "            circuit_depth (int): number of layers in the feature map\n",
    "            input_vector (array): the classical input vector\n",
    "        Returns:\n",
    "            trial_circuit (QuantumCircuit): circuit representing the quantum feature map\n",
    "        \"\"\"\n",
    "    circuit = QuantumCircuit(register)  # create a quantum circuit\n",
    "    entangler_map = {0: [1]}            # specify the coupling between qubits\n",
    "    \n",
    "    for depth in range(circuit_depth):\n",
    "        for r in range(num_of_qubits):\n",
    "\n",
    "            circuit.h(register[r]) # hadamard gate\n",
    "            circuit.u1(2 * input_vector[r], register[r]) # Rz gate\n",
    "        \n",
    "        for node in entangler_map:\n",
    "            for j in entangler_map[node]:\n",
    "        \n",
    "                circuit.cx(register[node], register[j]) # controlled-NOT gate\n",
    "                circuit.u1(2 * (np.pi - input_vector[node]) * (np.pi - input_vector[j]), register[j])\n",
    "                circuit.cx(register[node], register[j])\n",
    "\n",
    "    return circuit"
   ]
  },
  {
   "cell_type": "markdown",
   "metadata": {
    "slideshow": {
     "slide_type": "slide"
    }
   },
   "source": [
    "# This is the circuit we just constructed for a given input vector:\n",
    "\n",
    "<br>\n",
    "\n",
    "\\begin{equation}\n",
    "\\vec{x} = [\\pi/4, \\pi/12]\n",
    "\\end{equation}\n",
    "\n",
    "<br>"
   ]
  },
  {
   "cell_type": "code",
   "execution_count": 6,
   "metadata": {
    "scrolled": false
   },
   "outputs": [
    {
     "data": {
      "image/png": "[encoded data removed]",
      "text/plain": [
       "<Figure size 1685.6x298.222 with 1 Axes>"
      ]
     },
     "execution_count": 6,
     "metadata": {},
     "output_type": "execute_result"
    }
   ],
   "source": [
    "x = [np.pi/4, np.pi/12]      # two-dimensional input vector\n",
    "\n",
    "q = QuantumRegister(2, 'q')  # two-qubit quantum register\n",
    "\n",
    "circuit = feature_map(register=q, num_of_qubits=2, circuit_depth=2, input_vector=x) # the feature map circuit\n",
    "circuit.draw(output='mpl', style = style) # visualize the circuit"
   ]
  },
  {
   "cell_type": "markdown",
   "metadata": {
    "slideshow": {
     "slide_type": "slide"
    }
   },
   "source": [
    "# Actually, we don't even need to directly code the <br>quantum feature map ourselves. <br><br>Using Aqua, we can configure it in one line:\n",
    "\n",
    "<br>"
   ]
  },
  {
   "cell_type": "code",
   "execution_count": 7,
   "metadata": {
    "scrolled": false
   },
   "outputs": [],
   "source": [
    "feature_map = SecondOrderExpansion(num_qubits=2, depth=2)"
   ]
  },
  {
   "cell_type": "markdown",
   "metadata": {},
   "source": [
    "\n",
    "<br><br>\n",
    "\n",
    "Note: \n",
    "\n",
    "- `SecondOrderExpansion` has default parameters $\\phi_{\\{i\\}} = x_i$,  $\\phi_{\\{ij\\}} = (\\pi - x_i)(\\pi - x_j)$\n",
    "\n",
    "\n",
    "- If your dataset has more features, increase the value of `num_qubits` accordingly.\n",
    "\n",
    "\n",
    "- Other feature maps are available in Aqua, including `FirstOrderExpansion`, `PauliExpansion`, or you can create your own."
   ]
  },
  {
   "cell_type": "markdown",
   "metadata": {
    "slideshow": {
     "slide_type": "slide"
    }
   },
   "source": [
    "# Now that we have specified the quantum feature map, <br>we can build the kernel matrix.\n",
    "\n",
    "<br>\n",
    "\n",
    "<img src=\"figs/kernel.png\" width=\"1300 px\" align=\"center\">"
   ]
  },
  {
   "cell_type": "markdown",
   "metadata": {
    "slideshow": {
     "slide_type": "slide"
    }
   },
   "source": [
    "# With Aqua, we can solve the full problem in a few lines of code."
   ]
  },
  {
   "cell_type": "code",
   "execution_count": 8,
   "metadata": {
    "scrolled": false
   },
   "outputs": [
    {
     "name": "stdout",
     "output_type": "stream",
     "text": [
      "Testing Accuracy: 1.0\n"
     ]
    },
    {
     "data": {
      "image/png": "[encoded data removed]",
      "text/plain": [
       "<Figure size 576x576 with 1 Axes>"
      ]
     },
     "metadata": {
      "needs_background": "light"
     },
     "output_type": "display_data"
    }
   ],
   "source": [
    "# Build the kernel matrix\n",
    "qsvm = QSVMKernel(feature_map = feature_map,\n",
    "                  training_dataset = my_data[0], test_dataset = my_data[1], datapoints = my_data[2][0])\n",
    "\n",
    "# Specify the backend\n",
    "backend = BasicAer.get_backend('statevector_simulator')\n",
    "quantum_instance = QuantumInstance(backend)\n",
    "\n",
    "# Use the kernel matrix to find the support vectors and classify new data\n",
    "result = qsvm.run(quantum_instance)\n",
    "\n",
    "print(\"Testing Accuracy:\", result['testing_accuracy'])\n",
    "plot_results(my_data = my_data, result = result)"
   ]
  },
  {
   "cell_type": "markdown",
   "metadata": {},
   "source": [
    "\n",
    "<br><br><br><br>\n",
    "\n",
    "<br><br><br><br>\n",
    "\n",
    "<br><br><br><br>\n",
    "\n",
    "<br><br><br><br>"
   ]
  },
  {
   "cell_type": "markdown",
   "metadata": {
    "slideshow": {
     "slide_type": "slide"
    }
   },
   "source": [
    "# Where to get this notebook:\n",
    "\n",
    "# https://github.com/jenglick/QuantumTutorials\n",
    "\n",
    "<br>\n",
    "\n",
    "Another version of this notebook is available in the Qiskit Tutorials repo at https://github.com/qiskit/qiskit-tutorial <br><br>\n",
    "Contributors: Vojtech Havlicek, Kristan Temme, Antonio Córcoles, Peng Liu, Richard Chen, Marco Pistoia, and Jay Gambetta.\n",
    "\n",
    "# Where to learn more about getting started with Qiskit:\n",
    "\n",
    "# https://learnqiskit.org\n",
    "\n",
    "<br>\n",
    "<br>\n"
   ]
  }
 ],
 "metadata": {
  "celltoolbar": "Slideshow",
  "kernelspec": {
   "display_name": "Python 3",
   "language": "python",
   "name": "python3"
  },
  "language_info": {
   "codemirror_mode": {
    "name": "ipython",
    "version": 3
   },
   "file_extension": ".py",
   "mimetype": "text/x-python",
   "name": "python",
   "nbconvert_exporter": "python",
   "pygments_lexer": "ipython3",
   "version": "3.6.8"
  }
 },
 "nbformat": 4,
 "nbformat_minor": 2
}
